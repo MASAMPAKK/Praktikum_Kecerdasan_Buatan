{
 "cells": [
  {
   "cell_type": "markdown",
   "id": "5687c890-7b3a-4151-82ac-c62dbbf8459c",
   "metadata": {},
   "source": [
    "# Analisis Data\n",
    "\n",
    "Pada notebook ini kita akan melakukan analisis data sesuai dengan ketentuan:\n",
    "\n",
    "1. Tampilkan rata-rata, standar deviasi, nilai minimum, nilai maksimum, Q1, Q2, dan Q3 dari attribute bertipe angka.  \n",
    "2. Tampilkan 10 record pertama dari dataset dengan attribute bertipe angka.  \n",
    "3. Tampilkan informasi jumlah record, jumlah attribute, nama attribute, jumlah attribute dengan tipe angka.  \n",
    "4. Tampilkan jumlah label dari semua attribute yang bernilai object.  \n",
    "5. Visualisasikan dataset dengan salah satu grafik yang sesuai.  \n",
    "6. Tampilkan korelasi dataset menggunakan heatmap.  \n",
    "7. Tulis kesimpulan dari hasil analisis dan visualisasi data.  \n"
   ]
  },
  {
   "cell_type": "code",
   "execution_count": 1,
   "id": "9aa3724e-4386-402e-bb8d-66aa7890c76b",
   "metadata": {},
   "outputs": [
    {
     "data": {
      "text/html": [
       "<div>\n",
       "<style scoped>\n",
       "    .dataframe tbody tr th:only-of-type {\n",
       "        vertical-align: middle;\n",
       "    }\n",
       "\n",
       "    .dataframe tbody tr th {\n",
       "        vertical-align: top;\n",
       "    }\n",
       "\n",
       "    .dataframe thead th {\n",
       "        text-align: right;\n",
       "    }\n",
       "</style>\n",
       "<table border=\"1\" class=\"dataframe\">\n",
       "  <thead>\n",
       "    <tr style=\"text-align: right;\">\n",
       "      <th></th>\n",
       "      <th>name</th>\n",
       "      <th>mpg</th>\n",
       "      <th>cylinders</th>\n",
       "      <th>displacement</th>\n",
       "      <th>horsepower</th>\n",
       "      <th>weight</th>\n",
       "      <th>acceleration</th>\n",
       "      <th>model_year</th>\n",
       "      <th>origin</th>\n",
       "    </tr>\n",
       "  </thead>\n",
       "  <tbody>\n",
       "    <tr>\n",
       "      <th>0</th>\n",
       "      <td>chevrolet chevelle malibu</td>\n",
       "      <td>18.0</td>\n",
       "      <td>8</td>\n",
       "      <td>307.0</td>\n",
       "      <td>130.0</td>\n",
       "      <td>3504</td>\n",
       "      <td>12.0</td>\n",
       "      <td>70</td>\n",
       "      <td>usa</td>\n",
       "    </tr>\n",
       "    <tr>\n",
       "      <th>1</th>\n",
       "      <td>buick skylark 320</td>\n",
       "      <td>15.0</td>\n",
       "      <td>8</td>\n",
       "      <td>350.0</td>\n",
       "      <td>165.0</td>\n",
       "      <td>3693</td>\n",
       "      <td>11.5</td>\n",
       "      <td>70</td>\n",
       "      <td>usa</td>\n",
       "    </tr>\n",
       "    <tr>\n",
       "      <th>2</th>\n",
       "      <td>plymouth satellite</td>\n",
       "      <td>18.0</td>\n",
       "      <td>8</td>\n",
       "      <td>318.0</td>\n",
       "      <td>150.0</td>\n",
       "      <td>3436</td>\n",
       "      <td>11.0</td>\n",
       "      <td>70</td>\n",
       "      <td>usa</td>\n",
       "    </tr>\n",
       "    <tr>\n",
       "      <th>3</th>\n",
       "      <td>amc rebel sst</td>\n",
       "      <td>16.0</td>\n",
       "      <td>8</td>\n",
       "      <td>304.0</td>\n",
       "      <td>150.0</td>\n",
       "      <td>3433</td>\n",
       "      <td>12.0</td>\n",
       "      <td>70</td>\n",
       "      <td>usa</td>\n",
       "    </tr>\n",
       "    <tr>\n",
       "      <th>4</th>\n",
       "      <td>ford torino</td>\n",
       "      <td>17.0</td>\n",
       "      <td>8</td>\n",
       "      <td>302.0</td>\n",
       "      <td>140.0</td>\n",
       "      <td>3449</td>\n",
       "      <td>10.5</td>\n",
       "      <td>70</td>\n",
       "      <td>usa</td>\n",
       "    </tr>\n",
       "  </tbody>\n",
       "</table>\n",
       "</div>"
      ],
      "text/plain": [
       "                        name   mpg  cylinders  displacement  horsepower  \\\n",
       "0  chevrolet chevelle malibu  18.0          8         307.0       130.0   \n",
       "1          buick skylark 320  15.0          8         350.0       165.0   \n",
       "2         plymouth satellite  18.0          8         318.0       150.0   \n",
       "3              amc rebel sst  16.0          8         304.0       150.0   \n",
       "4                ford torino  17.0          8         302.0       140.0   \n",
       "\n",
       "   weight  acceleration  model_year origin  \n",
       "0    3504          12.0          70    usa  \n",
       "1    3693          11.5          70    usa  \n",
       "2    3436          11.0          70    usa  \n",
       "3    3433          12.0          70    usa  \n",
       "4    3449          10.5          70    usa  "
      ]
     },
     "execution_count": 1,
     "metadata": {},
     "output_type": "execute_result"
    }
   ],
   "source": [
    "import pandas as pd\n",
    "import matplotlib.pyplot as plt\n",
    "import numpy as np\n",
    "\n",
    "\n",
    "# Membaca dataset\n",
    "df = pd.read_csv(\"Automobile.csv\")\n",
    "\n",
    "# Menampilkan 5 record pertama untuk memastikan data terbaca\n",
    "df.head()\n"
   ]
  },
  {
   "cell_type": "markdown",
   "id": "b6bb1925-8ca3-49a3-b624-226e0b1802a0",
   "metadata": {},
   "source": [
    "## Statistik Deskriptif\n",
    "\n",
    "Pada tahap ini kita menampilkan statistik deskriptif dari kolom numerik, \n",
    "meliputi rata-rata, standar deviasi, nilai minimum, maksimum, serta kuartil (Q1, Q2, Q3).\n"
   ]
  },
  {
   "cell_type": "code",
   "execution_count": 15,
   "id": "5b46aff4-f31d-4ece-8e97-8fb84bf73580",
   "metadata": {
    "jupyter": {
     "source_hidden": true
    },
    "scrolled": true
   },
   "outputs": [
    {
     "data": {
      "text/html": [
       "<div>\n",
       "<style scoped>\n",
       "    .dataframe tbody tr th:only-of-type {\n",
       "        vertical-align: middle;\n",
       "    }\n",
       "\n",
       "    .dataframe tbody tr th {\n",
       "        vertical-align: top;\n",
       "    }\n",
       "\n",
       "    .dataframe thead th {\n",
       "        text-align: right;\n",
       "    }\n",
       "</style>\n",
       "<table border=\"1\" class=\"dataframe\">\n",
       "  <thead>\n",
       "    <tr style=\"text-align: right;\">\n",
       "      <th></th>\n",
       "      <th>mean</th>\n",
       "      <th>std</th>\n",
       "      <th>min</th>\n",
       "      <th>max</th>\n",
       "      <th>Q1</th>\n",
       "      <th>Q2</th>\n",
       "      <th>Q3</th>\n",
       "    </tr>\n",
       "  </thead>\n",
       "  <tbody>\n",
       "    <tr>\n",
       "      <th>mpg</th>\n",
       "      <td>23.514573</td>\n",
       "      <td>7.815984</td>\n",
       "      <td>9.0</td>\n",
       "      <td>46.6</td>\n",
       "      <td>17.500</td>\n",
       "      <td>23.0</td>\n",
       "      <td>29.000</td>\n",
       "    </tr>\n",
       "    <tr>\n",
       "      <th>cylinders</th>\n",
       "      <td>5.454774</td>\n",
       "      <td>1.701004</td>\n",
       "      <td>3.0</td>\n",
       "      <td>8.0</td>\n",
       "      <td>4.000</td>\n",
       "      <td>4.0</td>\n",
       "      <td>8.000</td>\n",
       "    </tr>\n",
       "    <tr>\n",
       "      <th>displacement</th>\n",
       "      <td>193.425879</td>\n",
       "      <td>104.269838</td>\n",
       "      <td>68.0</td>\n",
       "      <td>455.0</td>\n",
       "      <td>104.250</td>\n",
       "      <td>148.5</td>\n",
       "      <td>262.000</td>\n",
       "    </tr>\n",
       "    <tr>\n",
       "      <th>horsepower</th>\n",
       "      <td>104.469388</td>\n",
       "      <td>38.491160</td>\n",
       "      <td>46.0</td>\n",
       "      <td>230.0</td>\n",
       "      <td>75.000</td>\n",
       "      <td>93.5</td>\n",
       "      <td>126.000</td>\n",
       "    </tr>\n",
       "    <tr>\n",
       "      <th>weight</th>\n",
       "      <td>2970.424623</td>\n",
       "      <td>846.841774</td>\n",
       "      <td>1613.0</td>\n",
       "      <td>5140.0</td>\n",
       "      <td>2223.750</td>\n",
       "      <td>2803.5</td>\n",
       "      <td>3608.000</td>\n",
       "    </tr>\n",
       "    <tr>\n",
       "      <th>acceleration</th>\n",
       "      <td>15.568090</td>\n",
       "      <td>2.757689</td>\n",
       "      <td>8.0</td>\n",
       "      <td>24.8</td>\n",
       "      <td>13.825</td>\n",
       "      <td>15.5</td>\n",
       "      <td>17.175</td>\n",
       "    </tr>\n",
       "    <tr>\n",
       "      <th>model_year</th>\n",
       "      <td>76.010050</td>\n",
       "      <td>3.697627</td>\n",
       "      <td>70.0</td>\n",
       "      <td>82.0</td>\n",
       "      <td>73.000</td>\n",
       "      <td>76.0</td>\n",
       "      <td>79.000</td>\n",
       "    </tr>\n",
       "  </tbody>\n",
       "</table>\n",
       "</div>"
      ],
      "text/plain": [
       "                     mean         std     min     max        Q1      Q2  \\\n",
       "mpg             23.514573    7.815984     9.0    46.6    17.500    23.0   \n",
       "cylinders        5.454774    1.701004     3.0     8.0     4.000     4.0   \n",
       "displacement   193.425879  104.269838    68.0   455.0   104.250   148.5   \n",
       "horsepower     104.469388   38.491160    46.0   230.0    75.000    93.5   \n",
       "weight        2970.424623  846.841774  1613.0  5140.0  2223.750  2803.5   \n",
       "acceleration    15.568090    2.757689     8.0    24.8    13.825    15.5   \n",
       "model_year      76.010050    3.697627    70.0    82.0    73.000    76.0   \n",
       "\n",
       "                    Q3  \n",
       "mpg             29.000  \n",
       "cylinders        8.000  \n",
       "displacement   262.000  \n",
       "horsepower     126.000  \n",
       "weight        3608.000  \n",
       "acceleration    17.175  \n",
       "model_year      79.000  "
      ]
     },
     "execution_count": 15,
     "metadata": {},
     "output_type": "execute_result"
    }
   ],
   "source": [
    "# Statistik deskriptif numerik\n",
    "desc = df.describe().T\n",
    "\n",
    "# Menambahkan Q1, Q2, Q3\n",
    "desc[\"Q1\"] = df.quantile(0.25)\n",
    "desc[\"Q2\"] = df.quantile(0.50)\n",
    "desc[\"Q3\"] = df.quantile(0.75)\n",
    "\n",
    "desc[[\"mean\", \"std\", \"min\", \"max\", \"Q1\", \"Q2\", \"Q3\"]]\n"
   ]
  },
  {
   "cell_type": "markdown",
   "id": "ac0d3a7b-eaaf-4099-adf1-f9e05c5f4a6d",
   "metadata": {},
   "source": [
    "## 10 Record Pertama (Numerik)\n",
    "\n",
    "Menampilkan 10 record pertama hanya untuk kolom bertipe numerik, \n",
    "agar lebih fokus pada data angka yang bisa dianalisis lebih lanjut.\n"
   ]
  },
  {
   "cell_type": "code",
   "execution_count": 16,
   "id": "d478f4d4-c593-414c-a6ca-3c86d8f4f94a",
   "metadata": {},
   "outputs": [
    {
     "data": {
      "text/html": [
       "<div>\n",
       "<style scoped>\n",
       "    .dataframe tbody tr th:only-of-type {\n",
       "        vertical-align: middle;\n",
       "    }\n",
       "\n",
       "    .dataframe tbody tr th {\n",
       "        vertical-align: top;\n",
       "    }\n",
       "\n",
       "    .dataframe thead th {\n",
       "        text-align: right;\n",
       "    }\n",
       "</style>\n",
       "<table border=\"1\" class=\"dataframe\">\n",
       "  <thead>\n",
       "    <tr style=\"text-align: right;\">\n",
       "      <th></th>\n",
       "      <th>mpg</th>\n",
       "      <th>cylinders</th>\n",
       "      <th>displacement</th>\n",
       "      <th>horsepower</th>\n",
       "      <th>weight</th>\n",
       "      <th>acceleration</th>\n",
       "      <th>model_year</th>\n",
       "    </tr>\n",
       "  </thead>\n",
       "  <tbody>\n",
       "    <tr>\n",
       "      <th>0</th>\n",
       "      <td>18.0</td>\n",
       "      <td>8</td>\n",
       "      <td>307.0</td>\n",
       "      <td>130.0</td>\n",
       "      <td>3504</td>\n",
       "      <td>12.0</td>\n",
       "      <td>70</td>\n",
       "    </tr>\n",
       "    <tr>\n",
       "      <th>1</th>\n",
       "      <td>15.0</td>\n",
       "      <td>8</td>\n",
       "      <td>350.0</td>\n",
       "      <td>165.0</td>\n",
       "      <td>3693</td>\n",
       "      <td>11.5</td>\n",
       "      <td>70</td>\n",
       "    </tr>\n",
       "    <tr>\n",
       "      <th>2</th>\n",
       "      <td>18.0</td>\n",
       "      <td>8</td>\n",
       "      <td>318.0</td>\n",
       "      <td>150.0</td>\n",
       "      <td>3436</td>\n",
       "      <td>11.0</td>\n",
       "      <td>70</td>\n",
       "    </tr>\n",
       "    <tr>\n",
       "      <th>3</th>\n",
       "      <td>16.0</td>\n",
       "      <td>8</td>\n",
       "      <td>304.0</td>\n",
       "      <td>150.0</td>\n",
       "      <td>3433</td>\n",
       "      <td>12.0</td>\n",
       "      <td>70</td>\n",
       "    </tr>\n",
       "    <tr>\n",
       "      <th>4</th>\n",
       "      <td>17.0</td>\n",
       "      <td>8</td>\n",
       "      <td>302.0</td>\n",
       "      <td>140.0</td>\n",
       "      <td>3449</td>\n",
       "      <td>10.5</td>\n",
       "      <td>70</td>\n",
       "    </tr>\n",
       "    <tr>\n",
       "      <th>5</th>\n",
       "      <td>15.0</td>\n",
       "      <td>8</td>\n",
       "      <td>429.0</td>\n",
       "      <td>198.0</td>\n",
       "      <td>4341</td>\n",
       "      <td>10.0</td>\n",
       "      <td>70</td>\n",
       "    </tr>\n",
       "    <tr>\n",
       "      <th>6</th>\n",
       "      <td>14.0</td>\n",
       "      <td>8</td>\n",
       "      <td>454.0</td>\n",
       "      <td>220.0</td>\n",
       "      <td>4354</td>\n",
       "      <td>9.0</td>\n",
       "      <td>70</td>\n",
       "    </tr>\n",
       "    <tr>\n",
       "      <th>7</th>\n",
       "      <td>14.0</td>\n",
       "      <td>8</td>\n",
       "      <td>440.0</td>\n",
       "      <td>215.0</td>\n",
       "      <td>4312</td>\n",
       "      <td>8.5</td>\n",
       "      <td>70</td>\n",
       "    </tr>\n",
       "    <tr>\n",
       "      <th>8</th>\n",
       "      <td>14.0</td>\n",
       "      <td>8</td>\n",
       "      <td>455.0</td>\n",
       "      <td>225.0</td>\n",
       "      <td>4425</td>\n",
       "      <td>10.0</td>\n",
       "      <td>70</td>\n",
       "    </tr>\n",
       "    <tr>\n",
       "      <th>9</th>\n",
       "      <td>15.0</td>\n",
       "      <td>8</td>\n",
       "      <td>390.0</td>\n",
       "      <td>190.0</td>\n",
       "      <td>3850</td>\n",
       "      <td>8.5</td>\n",
       "      <td>70</td>\n",
       "    </tr>\n",
       "  </tbody>\n",
       "</table>\n",
       "</div>"
      ],
      "text/plain": [
       "    mpg  cylinders  displacement  horsepower  weight  acceleration  model_year\n",
       "0  18.0          8         307.0       130.0    3504          12.0          70\n",
       "1  15.0          8         350.0       165.0    3693          11.5          70\n",
       "2  18.0          8         318.0       150.0    3436          11.0          70\n",
       "3  16.0          8         304.0       150.0    3433          12.0          70\n",
       "4  17.0          8         302.0       140.0    3449          10.5          70\n",
       "5  15.0          8         429.0       198.0    4341          10.0          70\n",
       "6  14.0          8         454.0       220.0    4354           9.0          70\n",
       "7  14.0          8         440.0       215.0    4312           8.5          70\n",
       "8  14.0          8         455.0       225.0    4425          10.0          70\n",
       "9  15.0          8         390.0       190.0    3850           8.5          70"
      ]
     },
     "execution_count": 16,
     "metadata": {},
     "output_type": "execute_result"
    }
   ],
   "source": [
    "df.select_dtypes(include=[\"int64\", \"float64\"]).head(10)\n"
   ]
  },
  {
   "cell_type": "markdown",
   "id": "194849c8-a003-49ac-bf7a-7662cb1a47f2",
   "metadata": {},
   "source": [
    "## Informasi Dataset\n",
    "\n",
    "Kita akan melihat jumlah record, jumlah attribute, daftar nama attribute, \n",
    "serta berapa banyak attribute yang bertipe numerik.\n"
   ]
  },
  {
   "cell_type": "code",
   "execution_count": 17,
   "id": "31c492ba-10a7-4522-a8a8-bba7e525bde7",
   "metadata": {},
   "outputs": [
    {
     "name": "stdout",
     "output_type": "stream",
     "text": [
      "Jumlah record : 398\n",
      "Jumlah attribute : 9\n",
      "Nama attribute : ['name', 'mpg', 'cylinders', 'displacement', 'horsepower', 'weight', 'acceleration', 'model_year', 'origin']\n",
      "Jumlah attribute numerik : 7\n"
     ]
    }
   ],
   "source": [
    "num_records = df.shape[0]\n",
    "num_attributes = df.shape[1]\n",
    "attribute_names = df.columns.tolist()\n",
    "num_numeric = len(df.select_dtypes(include=[\"int64\", \"float64\"]).columns)\n",
    "\n",
    "print(\"Jumlah record :\", num_records)\n",
    "print(\"Jumlah attribute :\", num_attributes)\n",
    "print(\"Nama attribute :\", attribute_names)\n",
    "print(\"Jumlah attribute numerik :\", num_numeric)\n"
   ]
  },
  {
   "cell_type": "markdown",
   "id": "281c35e0-a97d-4e59-9091-cbe04364ba69",
   "metadata": {},
   "source": [
    "## Jumlah Label pada Attribute Object\n",
    "\n",
    "Untuk setiap attribute yang bertipe `object` (kategori), \n",
    "akan dihitung jumlah label unik yang ada.\n"
   ]
  },
  {
   "cell_type": "code",
   "execution_count": 18,
   "id": "cb85aabd-1d77-45ec-9766-f61b75c5c7ea",
   "metadata": {},
   "outputs": [
    {
     "name": "stdout",
     "output_type": "stream",
     "text": [
      "name -> 305 label unik\n",
      "origin -> 3 label unik\n"
     ]
    }
   ],
   "source": [
    "for col in df.select_dtypes(include=\"object\").columns:\n",
    "    print(f\"{col} -> {df[col].nunique()} label unik\")\n"
   ]
  },
  {
   "cell_type": "markdown",
   "id": "d67a209a-d333-4ece-af73-830ef0b63199",
   "metadata": {},
   "source": [
    "## Visualisasi Data\n",
    "\n",
    "Untuk visualisasi, kita pilih kolom **horsepower**.  \n",
    "Grafik histogram digunakan untuk melihat distribusi data horsepower.\n"
   ]
  },
  {
   "cell_type": "code",
   "execution_count": 19,
   "id": "e6519c93-01c6-493f-9f3c-6d74973381d1",
   "metadata": {},
   "outputs": [
    {
     "data": {
      "image/png": "[encoded data removed]",
      "text/plain": [
       "<Figure size 800x500 with 1 Axes>"
      ]
     },
     "metadata": {},
     "output_type": "display_data"
    }
   ],
   "source": [
    "plt.figure(figsize=(8,5))\n",
    "plt.hist(df[\"horsepower\"], bins=20, edgecolor=\"black\")\n",
    "plt.xlabel(\"Horsepower\")\n",
    "plt.ylabel(\"Frekuensi\")\n",
    "plt.title(\"Distribusi Horsepower\")\n",
    "plt.show()\n"
   ]
  },
  {
   "cell_type": "markdown",
   "id": "34485cb2-5758-4a6b-bd89-514e0604c4af",
   "metadata": {},
   "source": [
    "## Korelasi Dataset\n",
    "\n",
    "Korelasi antar kolom numerik divisualisasikan dalam bentuk heatmap, \n",
    "sehingga kita bisa melihat seberapa kuat hubungan antar variabel.\n"
   ]
  },
  {
   "cell_type": "code",
   "execution_count": 21,
   "id": "222e12a5-b298-4afb-9560-f08a9c3c1785",
   "metadata": {},
   "outputs": [
    {
     "data": {
      "image/png": "[encoded data removed]",
      "text/plain": [
       "<Figure size 800x600 with 2 Axes>"
      ]
     },
     "metadata": {},
     "output_type": "display_data"
    }
   ],
   "source": [
    "# Ambil hanya kolom numerik\n",
    "numeric_df = df.select_dtypes(include=[\"int64\", \"float64\"])\n",
    "\n",
    "# Hitung korelasi\n",
    "corr = numeric_df.corr()\n",
    "\n",
    "# Plot heatmap manual\n",
    "plt.figure(figsize=(8,6))\n",
    "plt.imshow(corr, cmap=\"coolwarm\", interpolation=\"nearest\")\n",
    "plt.colorbar(label=\"Korelasi\")\n",
    "plt.xticks(range(len(corr)), corr.columns, rotation=90)\n",
    "plt.yticks(range(len(corr)), corr.columns)\n",
    "plt.title(\"Heatmap Korelasi Dataset\")\n",
    "plt.show()\n",
    "\n"
   ]
  },
  {
   "cell_type": "markdown",
   "id": "bed67349-1b10-4a10-a091-118fa933d2dd",
   "metadata": {},
   "source": [
    "# Kesimpulan Analisis Data Automobile.csv\n",
    "\n",
    "1. **Statistik Deskriptif**\n",
    "   - Rata-rata konsumsi bahan bakar (`mpg`) sekitar **23.5 mpg** dengan variasi cukup besar.\n",
    "   - Mobil dalam dataset mayoritas menggunakan **4 silinder**, tetapi ada juga mobil dengan 3, 5, 6, hingga 8 silinder.\n",
    "   - `horsepower` rata-rata sekitar **105 hp**, dengan sebagian besar mobil berada pada kisaran **70–120 hp**.\n",
    "   - Berat mobil (`weight`) rata-rata sekitar **2.900 lbs**, dengan rentang dari mobil ringan hingga berat di atas 5.000 lbs.\n",
    "\n",
    "2. **Distribusi Data**\n",
    "   - Histogram `horsepower` memperlihatkan distribusi tidak merata, mayoritas mobil berada di kelas menengah.\n",
    "   - Atribut `origin` menunjukkan variasi mobil dari **USA, Europe, dan Japan**, dengan dominasi mobil asal USA.\n",
    "\n",
    "3. **Informasi Dataset**\n",
    "   - Dataset berisi **398 record** dan **9 atribut**.\n",
    "   - Atribut numerik utama: `mpg`, `cylinders`, `displacement`, `horsepower`, `weight`, `acceleration`, `model_year`.\n",
    "   - Atribut kategorikal: `name` (unik untuk tiap mobil) dan `origin`.\n",
    "\n",
    "4. **Korelasi**\n",
    "   - `weight`, `displacement`, dan `horsepower` memiliki korelasi positif kuat → semakin berat mobil, umumnya semakin besar mesin dan tenaga.\n",
    "   - `mpg` berkorelasi negatif dengan `weight` dan `displacement` → semakin berat dan semakin besar mesin, konsumsi bahan bakar semakin boros.\n",
    "   - `model_year` berkorelasi positif dengan `mpg` → mobil yang lebih baru cenderung lebih hemat bahan bakar.\n",
    "\n",
    "5. **Kesimpulan Utama**\n",
    "   - Dataset menggambarkan mobil dari tahun 1970-an hingga 1980-an dengan berbagai spesifikasi.\n",
    "   - Mobil dari **USA** cenderung lebih berat dan boros bahan bakar dibandingkan mobil dari **Europe** dan **Japan**.\n",
    "   - Tren waktu menunjukkan mobil lebih baru umumnya lebih efisien bahan bakar.\n"
   ]
  },
  {
   "cell_type": "markdown",
   "id": "36652f56-5f3f-40cf-8ca8-8cdd7e5a46ce",
   "metadata": {},
   "source": [
    "# Post Test 3 - Data Preprocessing\n",
    "**Nama**        : Muhammad Aidil Saputra  \n",
    "**NIM**         : 2309106042  \n",
    "\n",
    "---\n",
    "\n",
    "## Tujuan\n",
    "Melakukan preprocessing pada dataset **Automobile.csv** dengan langkah-langkah berikut:  \n",
    "1. Data Cleaning (missing value, duplicate, outlier)  \n",
    "2. Normalisasi / Standarisasi kolom numerik  \n",
    "3. Encoding kolom kategorikal  \n",
    "4. Feature Engineering (minimal 1 feature baru)  \n",
    "5. Splitting data ke dalam data training & testing  \n",
    "\n",
    "---\n"
   ]
  },
  {
   "cell_type": "code",
   "execution_count": 6,
   "id": "d498d950-2a28-4b6b-a5c0-8a0b4870ec5f",
   "metadata": {},
   "outputs": [
    {
     "name": "stdout",
     "output_type": "stream",
     "text": [
      "Jumlah missing value per kolom sebelum cleaning:\n",
      "name            0\n",
      "mpg             0\n",
      "cylinders       0\n",
      "displacement    0\n",
      "horsepower      0\n",
      "weight          0\n",
      "acceleration    0\n",
      "model_year      0\n",
      "origin          0\n",
      "dtype: int64\n",
      "\n",
      "Jumlah duplicate sebelum cleaning: 0\n",
      "Jumlah duplicate setelah cleaning: 0\n",
      "\n",
      "Data setelah cleaning:\n",
      "                        name   mpg  cylinders  displacement  horsepower  \\\n",
      "0  chevrolet chevelle malibu  18.0          8         307.0       130.0   \n",
      "1          buick skylark 320  15.0          8         350.0       165.0   \n",
      "2         plymouth satellite  18.0          8         318.0       150.0   \n",
      "3              amc rebel sst  16.0          8         304.0       150.0   \n",
      "4                ford torino  17.0          8         302.0       140.0   \n",
      "\n",
      "   weight  acceleration  model_year origin  \n",
      "0    3504          12.0          70    usa  \n",
      "1    3693          11.5          70    usa  \n",
      "2    3436          11.0          70    usa  \n",
      "3    3433          12.0          70    usa  \n",
      "4    3449          10.5          70    usa  \n",
      "\n",
      "Jumlah record setelah cleaning: 362\n"
     ]
    }
   ],
   "source": [
    "# --- Cek Missing Value ---\n",
    "print(\"Jumlah missing value per kolom sebelum cleaning:\")\n",
    "print(df.isnull().sum())\n",
    "\n",
    "# --- Handling Missing Value ---\n",
    "for col in df.columns:\n",
    "    if df[col].dtype in ['int64', 'float64']:\n",
    "        df[col].fillna(df[col].mean(), inplace=True)   # numerik → rata-rata\n",
    "    else:\n",
    "        df[col].fillna(df[col].mode()[0], inplace=True) # kategorikal → modus\n",
    "\n",
    "# --- Cek Duplicate ---\n",
    "print(\"\\nJumlah duplicate sebelum cleaning:\", df.duplicated().sum())\n",
    "\n",
    "# Hapus duplicate\n",
    "df = df.drop_duplicates()\n",
    "\n",
    "print(\"Jumlah duplicate setelah cleaning:\", df.duplicated().sum())\n",
    "\n",
    "# --- Handling Outlier (IQR Method) ---\n",
    "num_cols = df.select_dtypes(include=['int64','float64']).columns\n",
    "for col in num_cols:\n",
    "    Q1 = df[col].quantile(0.25)\n",
    "    Q3 = df[col].quantile(0.75)\n",
    "    IQR = Q3 - Q1\n",
    "    lower = Q1 - 1.5 * IQR\n",
    "    upper = Q3 + 1.5 * IQR\n",
    "    df = df[(df[col] >= lower) & (df[col] <= upper)]\n",
    "\n",
    "print(\"\\nData setelah cleaning:\")\n",
    "print(df.head())\n",
    "print(\"\\nJumlah record setelah cleaning:\", df.shape[0])\n"
   ]
  },
  {
   "cell_type": "markdown",
   "id": "7c707bfe-3a09-48f9-85ca-9857e6f0e38a",
   "metadata": {},
   "source": [
    "##  1. Data Cleaning\n",
    "Pada tahap ini dilakukan beberapa langkah:  \n",
    "- **Handling Missing Value**: Mengisi nilai kosong dengan mean/median (untuk numerik) atau modus (untuk kategorikal).  \n",
    "- **Handling Duplicate**: Mengecek apakah terdapat duplikasi data dan menghapusnya.  \n",
    "- **Handling Outlier**: Menghapus data yang nilainya di luar batas normal (menggunakan metode IQR).  \n"
   ]
  },
  {
   "cell_type": "code",
   "execution_count": 11,
   "id": "d1f5c8b2-5572-4341-a061-e9cbfcb4b797",
   "metadata": {},
   "outputs": [
    {
     "name": "stdout",
     "output_type": "stream",
     "text": [
      "Data setelah normalisasi (5 record pertama):\n",
      "        mpg  cylinders  displacement  horsepower    weight  acceleration  \\\n",
      "0  0.208333        1.0      0.719880    0.677419  0.558806      0.201613   \n",
      "1  0.119048        1.0      0.849398    0.959677  0.614657      0.161290   \n",
      "2  0.208333        1.0      0.753012    0.838710  0.538712      0.120968   \n",
      "3  0.148810        1.0      0.710843    0.838710  0.537825      0.201613   \n",
      "4  0.178571        1.0      0.704819    0.758065  0.542553      0.080645   \n",
      "\n",
      "   model_year  \n",
      "0         0.0  \n",
      "1         0.0  \n",
      "2         0.0  \n",
      "3         0.0  \n",
      "4         0.0  \n"
     ]
    }
   ],
   "source": [
    "# Normalisasi (Min-Max Scaling)\n",
    "num_cols = df.select_dtypes(include=['int64','float64']).columns\n",
    "\n",
    "df_normalized = df.copy()\n",
    "for col in num_cols:\n",
    "    df_normalized[col] = (df[col] - df[col].min()) / (df[col].max() - df[col].min())\n",
    "\n",
    "print(\"Data setelah normalisasi (5 record pertama):\")\n",
    "print(df_normalized[num_cols].head())\n"
   ]
  },
  {
   "cell_type": "markdown",
   "id": "5d04b88c-5ed8-4f9e-9854-4f2cc4485325",
   "metadata": {},
   "source": [
    "## 2. Normalisasi / Standarisasi Kolom Numerik\n",
    "Tahap ini dilakukan untuk menyamakan skala data numerik.  \n",
    "Metode yang digunakan adalah **Min-Max Scaling**, sehingga semua nilai berada pada rentang `[0, 1]`."
   ]
  },
  {
   "cell_type": "code",
   "execution_count": 12,
   "id": "7014ba41-8234-4135-8366-0920f2c0330a",
   "metadata": {},
   "outputs": [
    {
     "name": "stdout",
     "output_type": "stream",
     "text": [
      "Data setelah encoding (5 record pertama):\n",
      "   name       mpg  cylinders  displacement  horsepower    weight  \\\n",
      "0    44  0.208333        1.0      0.719880    0.677419  0.558806   \n",
      "1    32  0.119048        1.0      0.849398    0.959677  0.614657   \n",
      "2   211  0.208333        1.0      0.753012    0.838710  0.538712   \n",
      "3    12  0.148810        1.0      0.710843    0.838710  0.537825   \n",
      "4   148  0.178571        1.0      0.704819    0.758065  0.542553   \n",
      "\n",
      "   acceleration  model_year  origin  \n",
      "0      0.201613         0.0       2  \n",
      "1      0.161290         0.0       2  \n",
      "2      0.120968         0.0       2  \n",
      "3      0.201613         0.0       2  \n",
      "4      0.080645         0.0       2  \n"
     ]
    }
   ],
   "source": [
    "# Encoding kolom kategorikal\n",
    "cat_cols = df.select_dtypes(include=['object']).columns\n",
    "\n",
    "df_encoded = df_normalized.copy()\n",
    "for col in cat_cols:\n",
    "    df_encoded[col] = df_encoded[col].astype('category').cat.codes\n",
    "\n",
    "print(\"Data setelah encoding (5 record pertama):\")\n",
    "print(df_encoded.head())\n"
   ]
  },
  {
   "cell_type": "markdown",
   "id": "7ad75c1a-1858-4bd6-937d-8cf3c883fb2c",
   "metadata": {},
   "source": [
    "## 3. Encoding Kolom Kategorikal\n",
    "Kolom dengan tipe data `object` diubah ke bentuk numerik.  \n",
    "Metode yang digunakan adalah **Label Encoding**, di mana setiap kategori diubah menjadi angka."
   ]
  },
  {
   "cell_type": "code",
   "execution_count": 13,
   "id": "b03981c0-d337-46da-bee1-9daeb8ab2924",
   "metadata": {},
   "outputs": [
    {
     "name": "stdout",
     "output_type": "stream",
     "text": [
      "Kolom horsepower atau curb-weight tidak ditemukan di dataset.\n",
      "Data setelah feature engineering (5 record pertama):\n",
      "   name       mpg  cylinders  displacement  horsepower    weight  \\\n",
      "0    44  0.208333        1.0      0.719880    0.677419  0.558806   \n",
      "1    32  0.119048        1.0      0.849398    0.959677  0.614657   \n",
      "2   211  0.208333        1.0      0.753012    0.838710  0.538712   \n",
      "3    12  0.148810        1.0      0.710843    0.838710  0.537825   \n",
      "4   148  0.178571        1.0      0.704819    0.758065  0.542553   \n",
      "\n",
      "   acceleration  model_year  origin  \n",
      "0      0.201613         0.0       2  \n",
      "1      0.161290         0.0       2  \n",
      "2      0.120968         0.0       2  \n",
      "3      0.201613         0.0       2  \n",
      "4      0.080645         0.0       2  \n"
     ]
    }
   ],
   "source": [
    "# Feature Engineering - membuat fitur baru\n",
    "if 'horsepower' in df_encoded.columns and 'curb-weight' in df_encoded.columns:\n",
    "    df_encoded['power_to_weight_ratio'] = df_encoded['horsepower'] / df_encoded['curb-weight']\n",
    "else:\n",
    "    print(\"Kolom horsepower atau curb-weight tidak ditemukan di dataset.\")\n",
    "\n",
    "print(\"Data setelah feature engineering (5 record pertama):\")\n",
    "print(df_encoded.head())\n"
   ]
  },
  {
   "cell_type": "markdown",
   "id": "8ecc33f6-ed65-4680-8728-83fc008523f2",
   "metadata": {},
   "source": [
    "## 🔹 4. Feature Engineering\n",
    "Tahap ini menambahkan fitur baru agar dataset lebih informatif.  \n",
    "Fitur baru yang dibuat adalah **`power_to_weight_ratio`**, yang dihitung dari:  \n",
    "\n",
    "\\[\n",
    "\\text{power\\_to\\_weight\\_ratio} = \\frac{horsepower}{curb\\_weight}\n",
    "\\]  \n",
    "\n",
    "Fitur ini menunjukkan rasio tenaga mesin terhadap bobot mobil, yang bisa menjadi indikator performa mobil."
   ]
  },
  {
   "cell_type": "code",
   "execution_count": 14,
   "id": "9b745104-0223-4239-9d4a-d83239f170f9",
   "metadata": {},
   "outputs": [
    {
     "name": "stdout",
     "output_type": "stream",
     "text": [
      "Jumlah data training: 289\n",
      "Jumlah data testing : 73\n"
     ]
    }
   ],
   "source": [
    "# Split data (80% train, 20% test) tanpa sklearn\n",
    "train_size = int(0.8 * len(df_encoded))\n",
    "\n",
    "train_data = df_encoded.iloc[:train_size]\n",
    "test_data = df_encoded.iloc[train_size:]\n",
    "\n",
    "print(\"Jumlah data training:\", len(train_data))\n",
    "print(\"Jumlah data testing :\", len(test_data))\n"
   ]
  },
  {
   "cell_type": "markdown",
   "id": "b41137b7-ba4f-4d7b-9fb6-909a49177baa",
   "metadata": {},
   "source": [
    "## 5. Splitting Data\n",
    "Dataset dibagi menjadi dua bagian:  \n",
    "- **Data Training (80%)** → digunakan untuk melatih model.  \n",
    "- **Data Testing (20%)** → digunakan untuk menguji model."
   ]
  },
  {
   "cell_type": "markdown",
   "id": "a43f3966-9b62-4256-9066-465b3b9604bb",
   "metadata": {},
   "source": [
    "# Post Test 4 - Implementasi Model Machine Learning\n",
    "**Nama** : Muhammad Aidil Saputra  \n",
    "**NIM**  : 2309106042  \n",
    "**Dataset** : Automobile.csv  \n",
    "**Label Target** : horsepower (Numerik)\n",
    "\n",
    "---\n",
    "\n",
    "##Tujuan\n",
    "Membuat model *Machine Learning* untuk memprediksi nilai **horsepower** menggunakan metode **Linear Regression** karena target bersifat numerik.\n"
   ]
  },
  {
   "cell_type": "code",
   "execution_count": 4,
   "id": "733f01db-4ca2-4fd0-aca7-207e3f0f8557",
   "metadata": {},
   "outputs": [
    {
     "name": "stdout",
     "output_type": "stream",
     "text": [
      "Kolom dalam dataset:\n",
      "Index(['name', 'mpg', 'cylinders', 'displacement', 'horsepower', 'weight',\n",
      "       'acceleration', 'model_year', 'origin'],\n",
      "      dtype='object')\n",
      "✅ Model berhasil dilatih:\n",
      "- Linear Regression\n",
      "- Support Vector Regressor (SVR)\n"
     ]
    }
   ],
   "source": [
    "# A1. Implementasi Model Supervised Learning (Regresi)\n",
    "\n",
    "import pandas as pd\n",
    "import numpy as np\n",
    "from sklearn.model_selection import train_test_split\n",
    "from sklearn.linear_model import LinearRegression\n",
    "from sklearn.svm import SVR\n",
    "from sklearn.metrics import mean_absolute_error, mean_squared_error, r2_score\n",
    "import matplotlib.pyplot as plt\n",
    "\n",
    "# Membaca dataset\n",
    "df = pd.read_csv(\"Automobile.csv\")\n",
    "\n",
    "# Menampilkan nama kolom\n",
    "print(\"Kolom dalam dataset:\")\n",
    "print(df.columns)\n",
    "\n",
    "# Membersihkan data dari missing value di kolom penting\n",
    "df = df.dropna(subset=['horsepower', 'displacement', 'weight'])\n",
    "\n",
    "# Memilih variabel independen (X) dan dependen (y)\n",
    "X = df[['displacement', 'weight']]\n",
    "y = df['horsepower']\n",
    "\n",
    "# Membagi data menjadi data latih (80%) dan data uji (20%)\n",
    "X_train, X_test, y_train, y_test = train_test_split(X, y, test_size=0.2, random_state=42)\n",
    "\n",
    "# === Model 1: Linear Regression ===\n",
    "lr_model = LinearRegression()\n",
    "lr_model.fit(X_train, y_train)\n",
    "y_pred_lr = lr_model.predict(X_test)\n",
    "\n",
    "# === Model 2 (Point Plus): Support Vector Regressor (SVR) ===\n",
    "svr_model = SVR(kernel='rbf')\n",
    "svr_model.fit(X_train, y_train)\n",
    "y_pred_svr = svr_model.predict(X_test)\n",
    "\n",
    "print(\"✅ Model berhasil dilatih:\")\n",
    "print(\"- Linear Regression\")\n",
    "print(\"- Support Vector Regressor (SVR)\")\n"
   ]
  },
  {
   "cell_type": "code",
   "execution_count": 5,
   "id": "5799eef5-42b5-459f-bb3d-3201f553f67f",
   "metadata": {},
   "outputs": [
    {
     "name": "stdout",
     "output_type": "stream",
     "text": [
      "\n",
      "📊 Evaluasi Model: Linear Regression\n",
      "MAE  : 12.05\n",
      "MSE  : 247.39\n",
      "RMSE : 15.73\n",
      "R²   : 0.840\n",
      "\n",
      "📊 Evaluasi Model: Support Vector Regressor (SVR)\n",
      "MAE  : 14.98\n",
      "MSE  : 536.46\n",
      "RMSE : 23.16\n",
      "R²   : 0.653\n"
     ]
    }
   ],
   "source": [
    "# A2. Evaluasi Model Regresi\n",
    "\n",
    "def evaluate_model(y_true, y_pred, model_name):\n",
    "    mae = mean_absolute_error(y_true, y_pred)\n",
    "    mse = mean_squared_error(y_true, y_pred)\n",
    "    rmse = np.sqrt(mse)\n",
    "    r2 = r2_score(y_true, y_pred)\n",
    "    print(f\"\\n📊 Evaluasi Model: {model_name}\")\n",
    "    print(f\"MAE  : {mae:.2f}\")\n",
    "    print(f\"MSE  : {mse:.2f}\")\n",
    "    print(f\"RMSE : {rmse:.2f}\")\n",
    "    print(f\"R²   : {r2:.3f}\")\n",
    "\n",
    "evaluate_model(y_test, y_pred_lr, \"Linear Regression\")\n",
    "evaluate_model(y_test, y_pred_svr, \"Support Vector Regressor (SVR)\")\n"
   ]
  },
  {
   "cell_type": "markdown",
   "id": "0a6364b6-63df-4699-80f0-2477925aa76e",
   "metadata": {},
   "source": [
    "#### Penjelasan Metrik Evaluasi:\n",
    "\n",
    "- **MAE (Mean Absolute Error)** → Rata-rata selisih absolut antara nilai prediksi dan aktual.\n",
    "- **MSE (Mean Squared Error)** → Rata-rata kuadrat dari selisih nilai prediksi dan aktual.\n",
    "- **RMSE (Root Mean Squared Error)** → Akar kuadrat dari MSE, lebih mudah dibaca karena dalam satuan yang sama dengan target.\n",
    "- **R² Score** → Menunjukkan seberapa besar variasi data yang dijelaskan oleh model (semakin mendekati 1 semakin baik).\n"
   ]
  },
  {
   "cell_type": "code",
   "execution_count": 6,
   "id": "2b0df77e-331d-4383-be07-742ca45a0b44",
   "metadata": {},
   "outputs": [
    {
     "data": {
      "image/png": "[encoded data removed]",
      "text/plain": [
       "<Figure size 700x500 with 1 Axes>"
      ]
     },
     "metadata": {},
     "output_type": "display_data"
    },
    {
     "data": {
      "image/png": "[encoded data removed]",
      "text/plain": [
       "<Figure size 700x500 with 1 Axes>"
      ]
     },
     "metadata": {},
     "output_type": "display_data"
    }
   ],
   "source": [
    "# A3. Visualisasi hasil prediksi Linear Regression\n",
    "plt.figure(figsize=(7, 5))\n",
    "plt.scatter(y_test, y_pred_lr, color='blue', label='Prediksi (Linear Regression)')\n",
    "plt.plot([y_test.min(), y_test.max()], [y_test.min(), y_test.max()], 'r--', label='Nilai Sebenarnya')\n",
    "plt.xlabel('Nilai Aktual (Horsepower)')\n",
    "plt.ylabel('Nilai Prediksi')\n",
    "plt.title('Perbandingan Nilai Aktual vs Prediksi (Linear Regression)')\n",
    "plt.legend()\n",
    "plt.grid(True)\n",
    "plt.show()\n",
    "\n",
    "# Visualisasi hasil prediksi SVR\n",
    "plt.figure(figsize=(7, 5))\n",
    "plt.scatter(y_test, y_pred_svr, color='green', label='Prediksi (SVR)')\n",
    "plt.plot([y_test.min(), y_test.max()], [y_test.min(), y_test.max()], 'r--', label='Nilai Sebenarnya')\n",
    "plt.xlabel('Nilai Aktual (Horsepower)')\n",
    "plt.ylabel('Nilai Prediksi')\n",
    "plt.title('Perbandingan Nilai Aktual vs Prediksi (SVR)')\n",
    "plt.legend()\n",
    "plt.grid(True)\n",
    "plt.show()\n"
   ]
  },
  {
   "cell_type": "markdown",
   "id": "35b0993f-6cb8-4c3e-8f0c-3c5d2ae52886",
   "metadata": {},
   "source": [
    "#### Kesimpulan:\n",
    "\n",
    "- Model **Linear Regression** cocok untuk hubungan linear antara `displacement`, `weight`, dan `horsepower`.\n",
    "- Model **SVR (Support Vector Regressor)** dapat menangkap pola non-linear yang tidak bisa dijangkau oleh Linear Regression.\n",
    "- Nilai **R² Score** menunjukkan seberapa baik model menjelaskan variasi data target.\n",
    "- Visualisasi menunjukkan bahwa semakin dekat titik prediksi ke garis merah (y = x), maka prediksi semakin akurat.\n"
   ]
  },
  {
   "cell_type": "code",
   "execution_count": null,
   "id": "4d5e4ef5-4016-4017-8b8f-d96ee1c0dbf3",
   "metadata": {},
   "outputs": [],
   "source": []
  }
 ],
 "metadata": {
  "kernelspec": {
   "display_name": "Python (Aidil_042)",
   "language": "python",
   "name": "aidil_042"
  },
  "language_info": {
   "codemirror_mode": {
    "name": "ipython",
    "version": 3
   },
   "file_extension": ".py",
   "mimetype": "text/x-python",
   "name": "python",
   "nbconvert_exporter": "python",
   "pygments_lexer": "ipython3",
   "version": "3.10.7"
  }
 },
 "nbformat": 4,
 "nbformat_minor": 5
}
